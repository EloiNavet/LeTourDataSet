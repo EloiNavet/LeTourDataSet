{
 "cells": [
  {
   "cell_type": "markdown",
   "metadata": {},
   "source": [
    "# LeTour data set \n",
    "This file downloads raw data about every rider of every Tour de France (up to including 2019). This data will then be postprocessed and stored in CSV format.\n",
    "Executing this notebook might take some minutes."
   ]
  },
  {
   "cell_type": "markdown",
   "metadata": {},
   "source": [
    "## 1) Downloading pages in html format\n",
    "First we download the raw HTML pages from the `letour.fr` website to work offline from here on. The file `domainendings.txt` stores the respective website for each year, taken with a regular expression from `view-source:https://www.letour.fr/en/history` (at around line 1050-1790).  "
   ]
  },
  {
   "cell_type": "code",
   "execution_count": 1,
   "metadata": {},
   "outputs": [],
   "source": [
    "import os\n",
    "import subprocess\n",
    "import collections\n",
    "import numpy as np\n",
    "import re\n",
    "import pandas as pd\n",
    "from pathlib import Path\n",
    "\n",
    "folder = \"rawhtml\"\n",
    "Path(folder).mkdir(parents=True, exist_ok=True) # Create the directory if it does not exist\n",
    "prefix = 'letour.fr'"
   ]
  },
  {
   "cell_type": "code",
   "execution_count": 2,
   "metadata": {},
   "outputs": [],
   "source": [
    "with open(\"domainendings.txt\", \"r\") as ins: # Iterate over each year and use w3m to download t he content in HTML format\n",
    "    for id,line in enumerate(ins):\n",
    "        url = prefix+line\n",
    "        output =folder+'/id_'+str(id)+'.txt'\n",
    "        mycommand = 'w3m -dump -cols 1000 ' + url\n",
    "        result = subprocess.check_output(mycommand, shell=True)\n",
    "            \n",
    "        file = open(output,\"w\")\n",
    "        file.write(result.decode('utf-8'))\n",
    "        file.close"
   ]
  },
  {
   "cell_type": "markdown",
   "metadata": {},
   "source": [
    "## 2) Clean up the data \n"
   ]
  },
  {
   "cell_type": "code",
   "execution_count": 3,
   "metadata": {},
   "outputs": [],
   "source": [
    "keywords =[\"Tour de France\", \"TDF\", \"Number of stages\", \"Distance (km)\", \"Average speed\"]\n",
    "summary = {}\n",
    "for file in os.listdir(folder):\n",
    "    if file.endswith(\".txt\"):\n",
    "        with open(folder+\"/\"+file, 'r') as f:\n",
    "            content = f.read()\n",
    "            text = re.search(r'Rank .*?(Next rankings|Race)', content, re.DOTALL).group()\n",
    "            x = (\"\\n\".join(text.split(\"\\n\")[1:-1]))\n",
    "            for i in range(len(text.split(\"\\n\"))):\n",
    "                if i==0:\n",
    "                    cols = [\"Rank\", \"Rider\", \"Rider No.\", \"Team\", \"Times\", \"Gap\", \"B\"]\n",
    "                    df =  pd.DataFrame(columns=cols)\n",
    "                else:\n",
    "                    compressed = [y.strip(\" \") for y in text.split(\"\\n\")[i].split(\"  \") if not y==\"\"]\n",
    "                    if len(compressed)==0:\n",
    "                        break\n",
    "                    if len(compressed)<7:\n",
    "                        compressed.append(\"\")\n",
    "                    df.loc[len(df)] = compressed\n",
    "        with open(folder+\"/\"+file, 'r') as f:\n",
    "            lines = f.readlines()\n",
    "            metakws = []\n",
    "            for line in lines[:10] :\n",
    "                for kw in keywords:\n",
    "                    if kw in line:\n",
    "                        metakws.append(line[len(kw):].strip(\"\\n\").strip(\" \").replace(\" \",\"\").replace(\"PROLOGUE\",\"\"))\n",
    "\n",
    "            if len(metakws)==3:\n",
    "                metakws.append(np.NaN) # Sotimes the avg pace is missing\n",
    "            year = int(metakws[0][:4])\n",
    "            nstages = metakws[1]\n",
    "            if \"+\" in nstages:\n",
    "                nstages = int(nstages[:2])+1 # Prologue was counted extra\n",
    "            else:\n",
    "                nstages = int(nstages)\n",
    "            subdict = {'nstages':nstages,\"distance (km)\":int(metakws[2]),\"average speed (kph)\":float(metakws[3]),\"results\":df}\n",
    "            summary[year] = subdict\n",
    "summary = dict(sorted(summary.items()))"
   ]
  },
  {
   "cell_type": "code",
   "execution_count": 4,
   "metadata": {},
   "outputs": [],
   "source": [
    "df = pd.DataFrame(columns = [\"Year\",\"Rank\",\"Rider\",\"Rider No.\", \"Team\",\"Times\", \"Gap\", \"B\", \"P\"])\n",
    "for key in summary:\n",
    "    tmp = summary[key][\"results\"]\n",
    "    tmp[\"Year\"] = key\n",
    "    if key in [1907,1909,1910,1911,1912]:\n",
    "        f = lambda x: x[\"Times\"].split(\"h\")[0]\n",
    "        tmp[\"P\"] = tmp.apply(f, axis=1)\n",
    "        tmp[\"Times\"] = np.NaN\n",
    "        tmp[\"Gap\"] = np.NaN\n",
    "    else:\n",
    "        tmp[\"P\"] = np.NaN\n",
    "    tmp[\"Distance (km)\"] = summary[key][\"distance (km)\"]\n",
    "    tmp[\"No. Stages\"] = summary[key][\"nstages\"]\n",
    "    tmp[\"Listed Avg. Speed (kph)\"] = summary[key][\"average speed (kph)\"]\n",
    "    \n",
    "    df = df.append(tmp)"
   ]
  },
  {
   "cell_type": "code",
   "execution_count": 5,
   "metadata": {},
   "outputs": [],
   "source": [
    "# Fix result types\n",
    "df[\"ResultType\"] = \"time\"\n",
    "df.loc[df[\"Year\"].isin([1905,1906,1908]),\"ResultType\"] = \"null\"\n",
    "df.loc[df[\"Year\"].isin([1907,1909,1910,1911,1912]),\"ResultType\"] = \"points\""
   ]
  },
  {
   "cell_type": "code",
   "execution_count": 6,
   "metadata": {},
   "outputs": [],
   "source": [
    "# Split up time \n",
    "df = df.reset_index()\n",
    "df[\"Times\"].apply(lambda x: re.sub('[^0-9]',' ', str(x)).split(\"  \"))\n",
    "df[\"Hours\"] = np.NaN\n",
    "df[\"Minutes\"] = np.NaN\n",
    "df[\"Seconds\"] = np.NaN\n",
    "\n",
    "for i in range(len(df)):\n",
    "    x = df.loc[i,\"Times\"]\n",
    "    z = (re.sub('[^0-9]',' ', str(x)).split(\"  \"))\n",
    "    if len(z) == 4:\n",
    "        z = [int(zi) for zi in z[:3]]\n",
    "    if len(z)<3:\n",
    "        z = [np.NaN,np.NaN,np.NaN]\n",
    "    df.loc[i,\"Hours\"]   = z[0]\n",
    "    df.loc[i,\"Minutes\"] = z[1]\n",
    "    df.loc[i,\"Seconds\"] = z[2]\n",
    "df[\"TotalSeconds\"] = df[\"Hours\"]*3600+df[\"Minutes\"]*60+df[\"Seconds\"]"
   ]
  },
  {
   "cell_type": "code",
   "execution_count": 7,
   "metadata": {},
   "outputs": [
    {
     "name": "stdout",
     "output_type": "stream",
     "text": [
      "2006\n"
     ]
    }
   ],
   "source": [
    "# Fix this weird bug for e.g. year 2006\n",
    "for year in np.unique(df[\"Year\"]):\n",
    "    tmp = df[df[\"Year\"]==year].reset_index()\n",
    "    if tmp.loc[0][\"TotalSeconds\"] > tmp.loc[1][\"TotalSeconds\"]:\n",
    "        print(year)\n",
    "# Okay seems to be only for 2006\n",
    "tmp = df[df[\"Year\"]==2006].reset_index()\n",
    "ts = np.array(tmp[\"TotalSeconds\"])\n",
    "ts[1:] += ts[0]\n",
    "h = ts//3600\n",
    "m = (ts-(h*3600))//60\n",
    "s = (ts-(h*3600)-m*60)\n",
    "\n",
    "df.loc[df[\"Year\"]==2006,\"Hours\"] = h\n",
    "df.loc[df[\"Year\"]==2006,\"Minutes\"] = m\n",
    "df.loc[df[\"Year\"]==2006,\"Seconds\"] = s\n",
    "df.loc[df[\"Year\"]==2006,\"TotalSeconds\"] = ts"
   ]
  },
  {
   "cell_type": "code",
   "execution_count": 8,
   "metadata": {},
   "outputs": [],
   "source": [
    "# Get speed\n",
    "df[\"kph\"] = df[\"Distance (km)\"] / df[\"TotalSeconds\"] * 3600\n",
    "df[\"kph\"] = np.round(df[\"kph\"],3)"
   ]
  },
  {
   "cell_type": "code",
   "execution_count": 9,
   "metadata": {},
   "outputs": [],
   "source": [
    "# Convert to int \n",
    "cats = [\"Hours\",\"Minutes\",\"Seconds\",\"TotalSeconds\"]\n",
    "for cat in cats:\n",
    "    df[cat] = pd.Series(df[cat], dtype=pd.Int64Dtype())"
   ]
  },
  {
   "cell_type": "code",
   "execution_count": 11,
   "metadata": {},
   "outputs": [],
   "source": [
    "# Rearrange     \n",
    "df = df.drop(columns = list(df)[:1])\n",
    "df = df.rename(columns={\"Rider No.\": \"RiderNumber\", \"Times\": \"Time\", \"Distance (km)\": \"DistanceKilometer\",\n",
    "                   \"B\":\"Bonus\", \"P\":\"Points\", \"No. Stages\":\"NumberStages\", \"Listed Avg. Speed (kph)\":\"ListedAvgPace\", \"kph\":\"PersonalAvgPace\"})\n",
    "df = df[[\"Year\",\"Rider\",\"Rank\",\"Time\",\"DistanceKilometer\",\"PersonalAvgPace\",\"Hours\",\"Minutes\",\"Seconds\",\"Team\",\"RiderNumber\",\"TotalSeconds\",\"Gap\",\"Bonus\",\"Points\",\"NumberStages\",\"ListedAvgPace\",]]"
   ]
  },
  {
   "cell_type": "code",
   "execution_count": 12,
   "metadata": {},
   "outputs": [],
   "source": [
    "df.to_csv(\"Riders.csv\")"
   ]
  }
 ],
 "metadata": {
  "kernelspec": {
   "display_name": "Python 3",
   "language": "python",
   "name": "python3"
  },
  "language_info": {
   "codemirror_mode": {
    "name": "ipython",
    "version": 3
   },
   "file_extension": ".py",
   "mimetype": "text/x-python",
   "name": "python",
   "nbconvert_exporter": "python",
   "pygments_lexer": "ipython3",
   "version": "3.7.6"
  }
 },
 "nbformat": 4,
 "nbformat_minor": 4
}
