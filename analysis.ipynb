{
 "cells": [
  {
   "cell_type": "code",
   "execution_count": null,
   "metadata": {},
   "outputs": [],
   "source": [
    "import pandas as pd\n",
    "import numpy as np\n",
    "import matplotlib.pyplot as plt \n",
    "import matplotlib"
   ]
  },
  {
   "cell_type": "code",
   "execution_count": null,
   "metadata": {},
   "outputs": [],
   "source": [
    "df = pd.read_csv(\"Riders.csv\")"
   ]
  },
  {
   "cell_type": "code",
   "execution_count": null,
   "metadata": {},
   "outputs": [],
   "source": [
    "year = np.unique(df[\"Year\"])\n",
    "distance = df.groupby(\"Year\").agg(\"mean\")[\"DistanceKilometer\"].values\n",
    "nriders = df.groupby(\"Year\").agg(\"count\")[\"Rider\"]\n",
    "winnerpace =   df.groupby(\"Year\").first()[\"PersonalAvgPace\"]\n",
    "meantime =  df.groupby(\"Year\").agg(\"mean\")[\"TotalSeconds\"]\n",
    "meanpace =  distance/meantime*3600"
   ]
  },
  {
   "cell_type": "code",
   "execution_count": null,
   "metadata": {},
   "outputs": [],
   "source": [
    "matplotlib.rcParams.update({'font.size': 22})\n",
    "fig,ax = plt.subplots(1,1,figsize=(15,7))\n",
    "ax.plot(year,distance,\"-o\", lw = 3)\n",
    "ax.set_ylabel(\"Total distance (km)\",fontsize = 20,color = \"tab:blue\")\n",
    "\n",
    "ax2 = ax.twinx()\n",
    "ax2.plot(year,winnerpace,\"-o\",color = \"tab:red\",lw = 3)\n",
    "ax2.set_ylabel(\"Winner avg. pace (kph)\",fontsize = 20,color = \"tab:red\")\n",
    "ax.set_xlabel(\"Year\",fontsize=20)\n",
    "ax.grid(\"on\")\n",
    "ax.set_title(\"Tour de France 1903 - 2020\",fontsize=20)\n",
    "plt.savefig(\"DistanceAndPace.png\",dpi=100)"
   ]
  },
  {
   "cell_type": "code",
   "execution_count": null,
   "metadata": {},
   "outputs": [],
   "source": []
  }
 ],
 "metadata": {
  "kernelspec": {
   "display_name": "Python 3",
   "language": "python",
   "name": "python3"
  },
  "language_info": {
   "codemirror_mode": {
    "name": "ipython",
    "version": 3
   },
   "file_extension": ".py",
   "mimetype": "text/x-python",
   "name": "python",
   "nbconvert_exporter": "python",
   "pygments_lexer": "ipython3",
   "version": "3.8.5"
  }
 },
 "nbformat": 4,
 "nbformat_minor": 4
}
