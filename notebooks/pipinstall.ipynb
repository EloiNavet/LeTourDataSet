{
 "cells": [
  {
   "cell_type": "code",
   "execution_count": 1,
   "id": "57cc8a17",
   "metadata": {},
   "outputs": [
    {
     "name": "stdout",
     "output_type": "stream",
     "text": [
      "Requirement already satisfied: requests in c:\\users\\romain\\.conda\\envs\\sparql\\lib\\site-packages (2.25.1)\n",
      "Requirement already satisfied: certifi>=2017.4.17 in c:\\users\\romain\\.conda\\envs\\sparql\\lib\\site-packages (from requests) (2021.5.30)\n",
      "Requirement already satisfied: urllib3<1.27,>=1.21.1 in c:\\users\\romain\\.conda\\envs\\sparql\\lib\\site-packages (from requests) (1.26.4)\n",
      "Requirement already satisfied: chardet<5,>=3.0.2 in c:\\users\\romain\\.conda\\envs\\sparql\\lib\\site-packages (from requests) (4.0.0)\n",
      "Requirement already satisfied: idna<3,>=2.5 in c:\\users\\romain\\.conda\\envs\\sparql\\lib\\site-packages (from requests) (2.10)\n"
     ]
    }
   ],
   "source": [
    "!pip install requests"
   ]
  },
  {
   "cell_type": "code",
   "execution_count": 1,
   "id": "e1ea4740",
   "metadata": {},
   "outputs": [
    {
     "name": "stdout",
     "output_type": "stream",
     "text": [
      "Collecting html2text\n",
      "  Downloading html2text-2020.1.16-py3-none-any.whl (32 kB)\n",
      "Installing collected packages: html2text\n",
      "Successfully installed html2text-2020.1.16\n"
     ]
    }
   ],
   "source": [
    "!pip install html2text"
   ]
  },
  {
   "cell_type": "code",
   "execution_count": 2,
   "id": "288cd967",
   "metadata": {},
   "outputs": [
    {
     "name": "stdout",
     "output_type": "stream",
     "text": [
      "Collecting beautifulsoup4\n",
      "  Downloading beautifulsoup4-4.9.3-py3-none-any.whl (115 kB)\n",
      "Collecting soupsieve>1.2\n",
      "  Downloading soupsieve-2.2.1-py3-none-any.whl (33 kB)\n",
      "Installing collected packages: soupsieve, beautifulsoup4\n",
      "Successfully installed beautifulsoup4-4.9.3 soupsieve-2.2.1\n"
     ]
    }
   ],
   "source": [
    "!pip install beautifulsoup4"
   ]
  },
  {
   "cell_type": "code",
   "execution_count": 3,
   "id": "94afa184",
   "metadata": {},
   "outputs": [
    {
     "name": "stdout",
     "output_type": "stream",
     "text": [
      "Collecting lxml\n",
      "  Downloading lxml-4.6.3-cp38-cp38-win_amd64.whl (3.5 MB)\n",
      "Installing collected packages: lxml\n",
      "Successfully installed lxml-4.6.3\n"
     ]
    }
   ],
   "source": [
    "!pip install lxml"
   ]
  },
  {
   "cell_type": "code",
   "execution_count": 4,
   "id": "bd19f46b",
   "metadata": {},
   "outputs": [
    {
     "name": "stdout",
     "output_type": "stream",
     "text": [
      "Collecting html5lib\n",
      "  Downloading html5lib-1.1-py2.py3-none-any.whl (112 kB)\n",
      "Requirement already satisfied: six>=1.9 in c:\\users\\romain\\.conda\\envs\\sparql\\lib\\site-packages (from html5lib) (1.16.0)\n",
      "Requirement already satisfied: webencodings in c:\\users\\romain\\.conda\\envs\\sparql\\lib\\site-packages (from html5lib) (0.5.1)\n",
      "Installing collected packages: html5lib\n",
      "Successfully installed html5lib-1.1\n"
     ]
    }
   ],
   "source": [
    "!pip install html5lib"
   ]
  },
  {
   "cell_type": "code",
   "execution_count": 5,
   "id": "7164db24",
   "metadata": {},
   "outputs": [
    {
     "name": "stdout",
     "output_type": "stream",
     "text": [
      "Collecting pandas-read-xml\n",
      "  Downloading pandas_read_xml-0.3.1-py3-none-any.whl (6.3 kB)\n",
      "Collecting pyarrow\n",
      "  Downloading pyarrow-4.0.1-cp38-cp38-win_amd64.whl (13.3 MB)\n",
      "Collecting xmltodict\n",
      "  Downloading xmltodict-0.12.0-py2.py3-none-any.whl (9.2 kB)\n",
      "Requirement already satisfied: urllib3>=1.26.3 in c:\\users\\romain\\.conda\\envs\\sparql\\lib\\site-packages (from pandas-read-xml) (1.26.4)\n",
      "Collecting distlib\n",
      "  Downloading distlib-0.3.2-py2.py3-none-any.whl (338 kB)\n",
      "Requirement already satisfied: pandas in c:\\users\\romain\\.conda\\envs\\sparql\\lib\\site-packages (from pandas-read-xml) (1.2.5)\n",
      "Requirement already satisfied: requests in c:\\users\\romain\\.conda\\envs\\sparql\\lib\\site-packages (from pandas-read-xml) (2.25.1)\n",
      "Collecting zipfile36\n",
      "  Downloading zipfile36-0.1.3-py3-none-any.whl (20 kB)\n",
      "Requirement already satisfied: numpy>=1.16.5 in c:\\users\\romain\\.conda\\envs\\sparql\\lib\\site-packages (from pandas->pandas-read-xml) (1.21.0)\n",
      "Requirement already satisfied: python-dateutil>=2.7.3 in c:\\users\\romain\\.conda\\envs\\sparql\\lib\\site-packages (from pandas->pandas-read-xml) (2.8.1)\n",
      "Requirement already satisfied: pytz>=2017.3 in c:\\users\\romain\\.conda\\envs\\sparql\\lib\\site-packages (from pandas->pandas-read-xml) (2021.1)\n",
      "Requirement already satisfied: six>=1.5 in c:\\users\\romain\\.conda\\envs\\sparql\\lib\\site-packages (from python-dateutil>=2.7.3->pandas->pandas-read-xml) (1.16.0)\n",
      "Requirement already satisfied: chardet<5,>=3.0.2 in c:\\users\\romain\\.conda\\envs\\sparql\\lib\\site-packages (from requests->pandas-read-xml) (4.0.0)\n",
      "Requirement already satisfied: idna<3,>=2.5 in c:\\users\\romain\\.conda\\envs\\sparql\\lib\\site-packages (from requests->pandas-read-xml) (2.10)\n",
      "Requirement already satisfied: certifi>=2017.4.17 in c:\\users\\romain\\.conda\\envs\\sparql\\lib\\site-packages (from requests->pandas-read-xml) (2021.5.30)\n",
      "Installing collected packages: zipfile36, xmltodict, pyarrow, distlib, pandas-read-xml\n",
      "Successfully installed distlib-0.3.2 pandas-read-xml-0.3.1 pyarrow-4.0.1 xmltodict-0.12.0 zipfile36-0.1.3\n"
     ]
    }
   ],
   "source": [
    "!pip install pandas-read-xml"
   ]
  },
  {
   "cell_type": "code",
   "execution_count": null,
   "id": "5fa16876",
   "metadata": {},
   "outputs": [],
   "source": []
  }
 ],
 "metadata": {
  "kernelspec": {
   "display_name": "Python 3",
   "language": "python",
   "name": "python3"
  },
  "language_info": {
   "codemirror_mode": {
    "name": "ipython",
    "version": 3
   },
   "file_extension": ".py",
   "mimetype": "text/x-python",
   "name": "python",
   "nbconvert_exporter": "python",
   "pygments_lexer": "ipython3",
   "version": "3.8.10"
  }
 },
 "nbformat": 4,
 "nbformat_minor": 5
}
